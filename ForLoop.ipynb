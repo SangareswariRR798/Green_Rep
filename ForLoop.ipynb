{
 "cells": [
  {
   "cell_type": "markdown",
   "id": "329b2d66",
   "metadata": {},
   "source": [
    "#Comparison operators"
   ]
  },
  {
   "cell_type": "code",
   "execution_count": null,
   "id": "d35fbd60-cb05-4e61-90c4-59a6e505267a",
   "metadata": {},
   "outputs": [],
   "source": [
    "# ==\n",
    "# >=\n",
    "# <=\n",
    "# != \n",
    "# only it give for True or False "
   ]
  },
  {
   "cell_type": "code",
   "execution_count": 2,
   "id": "9df05d44",
   "metadata": {},
   "outputs": [
    {
     "data": {
      "text/plain": [
       "True"
      ]
     },
     "execution_count": 2,
     "metadata": {},
     "output_type": "execute_result"
    }
   ],
   "source": [
    "'hi' == 'hi'"
   ]
  },
  {
   "cell_type": "code",
   "execution_count": 3,
   "id": "81e2a04d",
   "metadata": {},
   "outputs": [
    {
     "data": {
      "text/plain": [
       "True"
      ]
     },
     "execution_count": 3,
     "metadata": {},
     "output_type": "execute_result"
    }
   ],
   "source": [
    "8>=8"
   ]
  },
  {
   "cell_type": "code",
   "execution_count": 4,
   "id": "44e508e2",
   "metadata": {},
   "outputs": [
    {
     "data": {
      "text/plain": [
       "False"
      ]
     },
     "execution_count": 4,
     "metadata": {},
     "output_type": "execute_result"
    }
   ],
   "source": [
    "7 != 7"
   ]
  },
  {
   "cell_type": "code",
   "execution_count": 1,
   "id": "130ed5b8",
   "metadata": {},
   "outputs": [
    {
     "data": {
      "text/plain": [
       "True"
      ]
     },
     "execution_count": 1,
     "metadata": {},
     "output_type": "execute_result"
    }
   ],
   "source": [
    "## string comparision\n",
    "#'5' == '5'\n",
    "'boy' == 'boy'"
   ]
  },
  {
   "cell_type": "code",
   "execution_count": 9,
   "id": "a7557199-c6f1-4c0d-9a18-7dcd02a3c2a6",
   "metadata": {},
   "outputs": [
    {
     "data": {
      "text/plain": [
       "104"
      ]
     },
     "execution_count": 9,
     "metadata": {},
     "output_type": "execute_result"
    }
   ],
   "source": [
    "ord('h')"
   ]
  },
  {
   "cell_type": "code",
   "execution_count": 9,
   "id": "af683134",
   "metadata": {},
   "outputs": [
    {
     "data": {
      "text/plain": [
       "True"
      ]
     },
     "execution_count": 9,
     "metadata": {},
     "output_type": "execute_result"
    }
   ],
   "source": [
    "'hi' == 'hi'"
   ]
  },
  {
   "cell_type": "code",
   "execution_count": 5,
   "id": "aaebac8b",
   "metadata": {},
   "outputs": [
    {
     "data": {
      "text/plain": [
       "False"
      ]
     },
     "execution_count": 5,
     "metadata": {},
     "output_type": "execute_result"
    }
   ],
   "source": [
    "'hi' == 'HI' ## asciii -  104105   == 7273"
   ]
  },
  {
   "cell_type": "markdown",
   "id": "fb525796",
   "metadata": {},
   "source": [
    "Logical Operators"
   ]
  },
  {
   "cell_type": "code",
   "execution_count": null,
   "id": "9fa67737-87f2-494d-b9c8-ba0df1883e4a",
   "metadata": {},
   "outputs": [],
   "source": [
    "# and \n",
    "# or \n",
    "# not "
   ]
  },
  {
   "cell_type": "code",
   "execution_count": null,
   "id": "66e2c7ae",
   "metadata": {},
   "outputs": [],
   "source": [
    "#and\n",
    "U1 - 3rd stu  \n",
    "u2- %"
   ]
  },
  {
   "cell_type": "code",
   "execution_count": 6,
   "id": "25282318",
   "metadata": {},
   "outputs": [
    {
     "data": {
      "text/plain": [
       "True"
      ]
     },
     "execution_count": 6,
     "metadata": {},
     "output_type": "execute_result"
    }
   ],
   "source": [
    "(1==1)  and (70 < 80)"
   ]
  },
  {
   "cell_type": "code",
   "execution_count": 7,
   "id": "78a6a3d0",
   "metadata": {},
   "outputs": [
    {
     "data": {
      "text/plain": [
       "False"
      ]
     },
     "execution_count": 7,
     "metadata": {},
     "output_type": "execute_result"
    }
   ],
   "source": [
    "(1!=1)  and (70 < 80)"
   ]
  },
  {
   "cell_type": "code",
   "execution_count": 8,
   "id": "7943f785",
   "metadata": {},
   "outputs": [
    {
     "data": {
      "text/plain": [
       "True"
      ]
     },
     "execution_count": 8,
     "metadata": {},
     "output_type": "execute_result"
    }
   ],
   "source": [
    "(1==1)  or (100 < 80)"
   ]
  },
  {
   "cell_type": "code",
   "execution_count": null,
   "id": "a543a6e5-fd45-4f10-baed-22709fb36f0a",
   "metadata": {},
   "outputs": [],
   "source": [
    "False or True  "
   ]
  },
  {
   "cell_type": "code",
   "execution_count": 6,
   "id": "46231f58",
   "metadata": {},
   "outputs": [
    {
     "data": {
      "text/plain": [
       "False"
      ]
     },
     "execution_count": 6,
     "metadata": {},
     "output_type": "execute_result"
    }
   ],
   "source": [
    "(3 > 2) and (2 < 2) # both should be true\n",
    "# false   and true"
   ]
  },
  {
   "cell_type": "code",
   "execution_count": 7,
   "id": "17c8a38d",
   "metadata": {},
   "outputs": [
    {
     "data": {
      "text/plain": [
       "True"
      ]
     },
     "execution_count": 7,
     "metadata": {},
     "output_type": "execute_result"
    }
   ],
   "source": [
    "(3 > 2) or (2 > 3) # any one should be true"
   ]
  },
  {
   "cell_type": "code",
   "execution_count": 15,
   "id": "699fbe07-ce57-4c3a-97b1-46464dc3ddd0",
   "metadata": {},
   "outputs": [
    {
     "data": {
      "text/plain": [
       "False"
      ]
     },
     "execution_count": 15,
     "metadata": {},
     "output_type": "execute_result"
    }
   ],
   "source": [
    "('hi' == 'Hi') & ('bye' == 'bye') ,|,!"
   ]
  },
  {
   "cell_type": "code",
   "execution_count": null,
   "id": "c7f97d79-97c7-40b5-91c3-4b93f7b1bce7",
   "metadata": {},
   "outputs": [],
   "source": [
    "'hi' == 'Hi' or 'bye' == 'bye'"
   ]
  },
  {
   "cell_type": "code",
   "execution_count": null,
   "id": "58a37547-0df1-4cb6-a3ee-44fcc3d63903",
   "metadata": {},
   "outputs": [],
   "source": []
  },
  {
   "cell_type": "code",
   "execution_count": 9,
   "id": "405299bd",
   "metadata": {},
   "outputs": [
    {
     "data": {
      "text/plain": [
       "False"
      ]
     },
     "execution_count": 9,
     "metadata": {},
     "output_type": "execute_result"
    }
   ],
   "source": [
    "not (1==1)"
   ]
  },
  {
   "cell_type": "code",
   "execution_count": 10,
   "id": "e48acff9",
   "metadata": {},
   "outputs": [
    {
     "data": {
      "text/plain": [
       "True"
      ]
     },
     "execution_count": 10,
     "metadata": {},
     "output_type": "execute_result"
    }
   ],
   "source": [
    "not (1==2)"
   ]
  },
  {
   "cell_type": "code",
   "execution_count": 17,
   "id": "971011cb-db81-44cb-b017-c524fdbb636d",
   "metadata": {},
   "outputs": [
    {
     "data": {
      "text/plain": [
       "True"
      ]
     },
     "execution_count": 17,
     "metadata": {},
     "output_type": "execute_result"
    }
   ],
   "source": [
    "not 23 != 23"
   ]
  },
  {
   "cell_type": "code",
   "execution_count": 18,
   "id": "ab5c86d8",
   "metadata": {},
   "outputs": [
    {
     "data": {
      "text/plain": [
       "(True, True)"
      ]
     },
     "execution_count": 18,
     "metadata": {},
     "output_type": "execute_result"
    }
   ],
   "source": [
    "not (1==2), not(1==4)"
   ]
  },
  {
   "cell_type": "markdown",
   "id": "f4d91a2d",
   "metadata": {},
   "source": [
    "Control Statements"
   ]
  },
  {
   "cell_type": "code",
   "execution_count": 2,
   "id": "a1b10469",
   "metadata": {},
   "outputs": [
    {
     "name": "stdout",
     "output_type": "stream",
     "text": [
      "failed\n"
     ]
    }
   ],
   "source": [
    "# If...else\n",
    "## if,elif, else Statements\n",
    "\n",
    "a = 5\n",
    "\n",
    "if a==6: #false\n",
    "   print('equals 5')\n",
    "elif a==7: # false\n",
    "    print('5')\n",
    "elif a==8 : # false\n",
    "    print('equals to 567')\n",
    "else:\n",
    "    print('failed')"
   ]
  },
  {
   "cell_type": "code",
   "execution_count": 16,
   "id": "8ad6363e",
   "metadata": {},
   "outputs": [
    {
     "name": "stdout",
     "output_type": "stream",
     "text": [
      "12\n",
      "90\n",
      "99\n",
      "34\n",
      "88\n",
      "70\n",
      "45\n",
      "89\n",
      "85\n"
     ]
    }
   ],
   "source": [
    "l1=[12,90,99,34,88,70,45,89,85]\n",
    "for i in l1:\n",
    "    print(i)\n"
   ]
  },
  {
   "cell_type": "code",
   "execution_count": 13,
   "id": "454ae93b",
   "metadata": {},
   "outputs": [
    {
     "name": "stdout",
     "output_type": "stream",
     "text": [
      "No less than 80: 12\n",
      "90\n",
      "99\n",
      "No less than 80: 34\n",
      "88\n",
      "No less than 80: 70\n",
      "No less than 80: 45\n",
      "89\n",
      "85\n"
     ]
    }
   ],
   "source": [
    "l1=[12,90,99,34,88,70,45,89,85]\n",
    "for i in l1:\n",
    "    if i >80:\n",
    "        print(i)\n",
    "    else:\n",
    "        print(\"No less than 80:\",i)"
   ]
  },
  {
   "cell_type": "code",
   "execution_count": 11,
   "id": "c08e1427",
   "metadata": {},
   "outputs": [
    {
     "name": "stdout",
     "output_type": "stream",
     "text": [
      "[12, 90, 99, 34, 88, 70, 45, 89, 85]\n"
     ]
    }
   ],
   "source": [
    "l1=[12,90,99,34,88,70,45,89,85]\n",
    "print(l1)"
   ]
  },
  {
   "cell_type": "markdown",
   "id": "993c2dda",
   "metadata": {},
   "source": [
    "# For loop"
   ]
  },
  {
   "cell_type": "code",
   "execution_count": 25,
   "id": "03700c13",
   "metadata": {},
   "outputs": [
    {
     "name": "stdout",
     "output_type": "stream",
     "text": [
      "1\n",
      "2\n",
      "3\n",
      "4\n",
      "5\n",
      "6\n",
      "7\n",
      "8\n",
      "9\n"
     ]
    }
   ],
   "source": [
    "for i in range (1 , 10):\n",
    "    print(i)\n"
   ]
  },
  {
   "cell_type": "code",
   "execution_count": null,
   "id": "18916c0c",
   "metadata": {},
   "outputs": [],
   "source": []
  },
  {
   "cell_type": "code",
   "execution_count": 2,
   "id": "718fb519",
   "metadata": {},
   "outputs": [
    {
     "name": "stdout",
     "output_type": "stream",
     "text": [
      "Hi\n"
     ]
    }
   ],
   "source": [
    "\n",
    "no1=20\n",
    "if (  no1 > 9):\n",
    "    print('Hi')\n",
    "else:\n",
    "    print('Else')"
   ]
  },
  {
   "cell_type": "code",
   "execution_count": 1,
   "id": "66c0d12a",
   "metadata": {},
   "outputs": [
    {
     "data": {
      "text/plain": [
       "True"
      ]
     },
     "execution_count": 1,
     "metadata": {},
     "output_type": "execute_result"
    }
   ],
   "source": [
    "8 > 4\n"
   ]
  },
  {
   "cell_type": "code",
   "execution_count": null,
   "id": "b4c72a5f",
   "metadata": {},
   "outputs": [],
   "source": []
  }
 ],
 "metadata": {
  "kernelspec": {
   "display_name": "Python 3 (ipykernel)",
   "language": "python",
   "name": "python3"
  },
  "language_info": {
   "codemirror_mode": {
    "name": "ipython",
    "version": 3
   },
   "file_extension": ".py",
   "mimetype": "text/x-python",
   "name": "python",
   "nbconvert_exporter": "python",
   "pygments_lexer": "ipython3",
   "version": "3.11.5"
  }
 },
 "nbformat": 4,
 "nbformat_minor": 5
}
